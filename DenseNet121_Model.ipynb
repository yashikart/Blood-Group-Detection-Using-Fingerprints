{
  "nbformat": 4,
  "nbformat_minor": 0,
  "metadata": {
    "colab": {
      "provenance": [],
      "authorship_tag": "ABX9TyOKFyf2H+Vo/95EHa8VVrUp",
      "include_colab_link": true
    },
    "kernelspec": {
      "name": "python3",
      "display_name": "Python 3"
    },
    "language_info": {
      "name": "python"
    }
  },
  "cells": [
    {
      "cell_type": "markdown",
      "metadata": {
        "id": "view-in-github",
        "colab_type": "text"
      },
      "source": [
        "<a href=\"https://colab.research.google.com/github/yashikart/Blood-Group-Detection-Using-Fingerprints/blob/main/DenseNet121_Model.ipynb\" target=\"_parent\"><img src=\"https://colab.research.google.com/assets/colab-badge.svg\" alt=\"Open In Colab\"/></a>"
      ]
    },
    {
      "cell_type": "code",
      "execution_count": null,
      "metadata": {
        "colab": {
          "base_uri": "https://localhost:8080/"
        },
        "id": "bkIUv0ki5muO",
        "outputId": "b1e83c95-d295-4e90-b684-a3c4652548b0"
      },
      "outputs": [
        {
          "metadata": {
            "tags": null
          },
          "name": "stdout",
          "output_type": "stream",
          "text": [
            "Mounted at /content/drive\n",
            "Found 6800 images belonging to 8 classes.\n",
            "Found 320 images belonging to 8 classes.\n",
            "\n",
            "Balanced Class Distribution:\n",
            "🩸 A+: 850 samples\n",
            "🩸 A-: 850 samples\n",
            "🩸 AB+: 850 samples\n",
            "🩸 AB-: 850 samples\n",
            "🩸 B+: 850 samples\n",
            "🩸 B-: 850 samples\n",
            "🩸 O+: 850 samples\n",
            "🩸 O-: 850 samples\n",
            "Downloading data from https://storage.googleapis.com/tensorflow/keras-applications/densenet/densenet121_weights_tf_dim_ordering_tf_kernels_notop.h5\n",
            "\u001b[1m29084464/29084464\u001b[0m \u001b[32m━━━━━━━━━━━━━━━━━━━━\u001b[0m\u001b[37m\u001b[0m \u001b[1m0s\u001b[0m 0us/step\n",
            "\n",
            "🚀 Training DenseNet121...\n"
          ]
        },
        {
          "metadata": {
            "tags": null
          },
          "name": "stderr",
          "output_type": "stream",
          "text": [
            "/usr/local/lib/python3.11/dist-packages/keras/src/trainers/data_adapters/py_dataset_adapter.py:121: UserWarning: Your `PyDataset` class should call `super().__init__(**kwargs)` in its constructor. `**kwargs` can include `workers`, `use_multiprocessing`, `max_queue_size`. Do not pass these arguments to `fit()`, as they will be ignored.\n",
            "  self._warn_if_super_not_called()\n"
          ]
        },
        {
          "output_type": "stream",
          "name": "stdout",
          "text": [
            "Epoch 1/20\n",
            "\u001b[1m213/213\u001b[0m \u001b[32m━━━━━━━━━━━━━━━━━━━━\u001b[0m\u001b[37m\u001b[0m \u001b[1m5936s\u001b[0m 27s/step - accuracy: 0.4408 - loss: 1.4330 - val_accuracy: 0.5719 - val_loss: 0.9932\n",
            "Epoch 2/20\n",
            "\u001b[1m213/213\u001b[0m \u001b[32m━━━━━━━━━━━━━━━━━━━━\u001b[0m\u001b[37m\u001b[0m \u001b[1m5769s\u001b[0m 27s/step - accuracy: 0.7068 - loss: 0.7148 - val_accuracy: 0.5906 - val_loss: 0.9059\n",
            "Epoch 3/20\n",
            "\u001b[1m213/213\u001b[0m \u001b[32m━━━━━━━━━━━━━━━━━━━━\u001b[0m\u001b[37m\u001b[0m \u001b[1m5773s\u001b[0m 27s/step - accuracy: 0.7358 - loss: 0.5903 - val_accuracy: 0.7281 - val_loss: 0.6767\n",
            "Epoch 4/20\n",
            "\u001b[1m213/213\u001b[0m \u001b[32m━━━━━━━━━━━━━━━━━━━━\u001b[0m\u001b[37m\u001b[0m \u001b[1m5438s\u001b[0m 26s/step - accuracy: 0.7702 - loss: 0.5024 - val_accuracy: 0.7531 - val_loss: 0.5618\n",
            "Epoch 5/20\n",
            "\u001b[1m213/213\u001b[0m \u001b[32m━━━━━━━━━━━━━━━━━━━━\u001b[0m\u001b[37m\u001b[0m \u001b[1m5441s\u001b[0m 26s/step - accuracy: 0.8040 - loss: 0.4407 - val_accuracy: 0.7469 - val_loss: 0.5833\n",
            "Epoch 6/20\n",
            "\u001b[1m213/213\u001b[0m \u001b[32m━━━━━━━━━━━━━━━━━━━━\u001b[0m\u001b[37m\u001b[0m \u001b[1m5457s\u001b[0m 26s/step - accuracy: 0.8112 - loss: 0.4146 - val_accuracy: 0.7344 - val_loss: 0.6222\n",
            "Epoch 7/20\n",
            "\u001b[1m213/213\u001b[0m \u001b[32m━━━━━━━━━━━━━━━━━━━━\u001b[0m\u001b[37m\u001b[0m \u001b[1m5402s\u001b[0m 25s/step - accuracy: 0.8182 - loss: 0.3711 - val_accuracy: 0.7063 - val_loss: 0.7816\n",
            "Epoch 8/20\n",
            "\u001b[1m213/213\u001b[0m \u001b[32m━━━━━━━━━━━━━━━━━━━━\u001b[0m\u001b[37m\u001b[0m \u001b[1m5455s\u001b[0m 26s/step - accuracy: 0.8294 - loss: 0.3472 - val_accuracy: 0.7531 - val_loss: 0.6412\n",
            "Epoch 9/20\n",
            "\u001b[1m213/213\u001b[0m \u001b[32m━━━━━━━━━━━━━━━━━━━━\u001b[0m\u001b[37m\u001b[0m \u001b[1m5363s\u001b[0m 25s/step - accuracy: 0.8327 - loss: 0.3449 - val_accuracy: 0.7625 - val_loss: 0.6010\n",
            "✅ DenseNet121 saved to /content/drive/MyDrive/Blood Group Detection/Models_4/DenseNet121.keras\n",
            "📊 Final Accuracy for DenseNet121 -> Train: 83.18%, Validation: 76.25%\n"
          ]
        }
      ],
      "source": [
        "\n",
        "\n",
        "import os\n",
        "import random\n",
        "import numpy as np\n",
        "from google.colab import drive\n",
        "from tensorflow.keras.applications import EfficientNetB3, EfficientNetB0, ResNet50, Xception, ConvNeXtBase, DenseNet121\n",
        "from tensorflow.keras.layers import GlobalAveragePooling2D, Dense, Dropout\n",
        "from tensorflow.keras.models import Model\n",
        "from tensorflow.keras.optimizers import Adam\n",
        "from tensorflow.keras.preprocessing.image import ImageDataGenerator\n",
        "from tensorflow.keras.callbacks import EarlyStopping\n",
        "from shutil import copyfile, rmtree\n",
        "\n",
        "# ✅ Mount Google Drive\n",
        "drive.mount('/content/drive')\n",
        "\n",
        "# ✅ Define dataset paths\n",
        "original_train_dir = \"/content/drive/MyDrive/Blood Group Detection/Gabor filter_1/Train\"\n",
        "test_data_dir = \"/content/drive/MyDrive/Blood Group Detection/Gabor filter_1/Test\"\n",
        "\n",
        "# ✅ Temporary directory for balanced dataset\n",
        "balanced_train_dir = \"/content/balanced_train\"\n",
        "if os.path.exists(balanced_train_dir):\n",
        "    rmtree(balanced_train_dir)\n",
        "os.makedirs(balanced_train_dir)\n",
        "\n",
        "# ✅ Ensure 850 images per class\n",
        "min_train_samples = 850\n",
        "\n",
        "for class_name in os.listdir(original_train_dir):\n",
        "    class_path = os.path.join(original_train_dir, class_name)\n",
        "    if not os.path.isdir(class_path):\n",
        "        continue\n",
        "\n",
        "    images = os.listdir(class_path)\n",
        "    os.makedirs(os.path.join(balanced_train_dir, class_name), exist_ok=True)\n",
        "\n",
        "    if len(images) >= min_train_samples:\n",
        "        selected_images = random.sample(images, min_train_samples)\n",
        "    else:\n",
        "        selected_images = images  # Use all available images\n",
        "\n",
        "    # Copy selected images to balanced directory\n",
        "    for img in selected_images:\n",
        "        src = os.path.join(class_path, img)\n",
        "        dst = os.path.join(balanced_train_dir, class_name, img)\n",
        "        copyfile(src, dst)\n",
        "\n",
        "# ✅ Set parameters\n",
        "img_width, img_height = 224, 224\n",
        "batch_size = 32\n",
        "epochs = 20\n",
        "\n",
        "# ✅ Define Data Generators (No Augmentation)\n",
        "data_gen = ImageDataGenerator(rescale=1./255)\n",
        "\n",
        "train_generator = data_gen.flow_from_directory(\n",
        "    balanced_train_dir, target_size=(img_width, img_height),\n",
        "    batch_size=batch_size, class_mode='categorical'\n",
        ")\n",
        "test_generator = data_gen.flow_from_directory(\n",
        "    test_data_dir, target_size=(img_width, img_height),\n",
        "    batch_size=batch_size, class_mode='categorical', shuffle=False\n",
        ")\n",
        "\n",
        "num_classes = len(train_generator.class_indices)\n",
        "\n",
        "# ✅ Check dataset balance\n",
        "print(\"\\nBalanced Class Distribution:\")\n",
        "for class_name, count in train_generator.class_indices.items():\n",
        "    print(f\"🩸 {class_name}: {min_train_samples} samples\")\n",
        "\n",
        "# ✅ Define Model Architectures\n",
        "def create_model(base_model_func):\n",
        "    base_model = base_model_func(weights='imagenet', include_top=False, input_shape=(img_width, img_height, 3))\n",
        "    x = GlobalAveragePooling2D()(base_model.output)\n",
        "    x = Dense(512, activation='relu')(x)\n",
        "    x = Dropout(0.5)(x)\n",
        "    output = Dense(num_classes, activation='softmax')(x)\n",
        "    return Model(inputs=base_model.input, outputs=output)\n",
        "\n",
        "# ✅ Instantiate models (Including DenseNet121)\n",
        "models = {\n",
        "    \"DenseNet121\": create_model(DenseNet121)\n",
        "}\n",
        "\n",
        "# ✅ Train and save models\n",
        "for model_name, model in models.items():\n",
        "    model.compile(optimizer=Adam(learning_rate=0.0001), loss='categorical_crossentropy', metrics=['accuracy'])\n",
        "\n",
        "    print(f\"\\n🚀 Training {model_name}...\")\n",
        "    early_stopping = EarlyStopping(monitor='val_loss', patience=5, restore_best_weights=True)\n",
        "\n",
        "    history = model.fit(train_generator, epochs=epochs, validation_data=test_generator, callbacks=[early_stopping])\n",
        "\n",
        "    # ✅ Save the model\n",
        "    model_path = f\"/content/drive/MyDrive/Blood Group Detection/Models_4/{model_name}.keras\"\n",
        "    model.save(model_path)\n",
        "    print(f\"✅ {model_name} saved to {model_path}\")\n",
        "\n",
        "    # ✅ Print final training accuracy\n",
        "    train_acc = history.history['accuracy'][-1] * 100\n",
        "    val_acc = history.history['val_accuracy'][-1] * 100\n",
        "    print(f\"📊 Final Accuracy for {model_name} -> Train: {train_acc:.2f}%, Validation: {val_acc:.2f}%\")\n"
      ]
    }
  ]
}